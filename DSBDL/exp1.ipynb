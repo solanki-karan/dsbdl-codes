{
 "cells": [
  {
   "cell_type": "code",
   "execution_count": 1,
   "id": "787bf724-496f-4037-8220-c26290b19f33",
   "metadata": {
    "tags": []
   },
   "outputs": [],
   "source": [
    "import pandas as pd"
   ]
  },
  {
   "cell_type": "code",
   "execution_count": 2,
   "id": "48f2f948-36ea-4f71-9eca-9aebf4c4596b",
   "metadata": {
    "tags": []
   },
   "outputs": [],
   "source": [
    "import opendatasets as od"
   ]
  },
  {
   "cell_type": "code",
   "execution_count": null,
   "id": "24ffe0d9-d73c-40ff-8013-8467e60ac7d6",
   "metadata": {
    "tags": []
   },
   "outputs": [
    {
     "name": "stdout",
     "output_type": "stream",
     "text": [
      "Please provide your Kaggle credentials to download this dataset. Learn more: http://bit.ly/kaggle-creds\n",
      "Your Kaggle username: fr_karan\n",
      "Your Kaggle Key:"
     ]
    }
   ],
   "source": [
    "od.download(\"https://www.kaggle.com/datasets/tawfikelmetwally/automobile-dataset\")"
   ]
  },
  {
   "cell_type": "code",
   "execution_count": null,
   "id": "6e3d2b24-644f-4b06-83bf-aef72f15a4f6",
   "metadata": {
    "tags": []
   },
   "outputs": [],
   "source": [
    "df=pd.read_csv('automobile-dataset/Automobile.csv')"
   ]
  },
  {
   "cell_type": "code",
   "execution_count": null,
   "id": "5b82cab3-1f86-48b3-b079-22c77a1d1585",
   "metadata": {
    "tags": []
   },
   "outputs": [],
   "source": [
    "df.head()"
   ]
  },
  {
   "cell_type": "code",
   "execution_count": null,
   "id": "c86866fe-fb3f-4434-93c9-c8421ccdea92",
   "metadata": {
    "tags": []
   },
   "outputs": [],
   "source": [
    "df.tail()"
   ]
  },
  {
   "cell_type": "code",
   "execution_count": null,
   "id": "124ea8c0-ae49-4a90-8a4e-f44a77a5c51e",
   "metadata": {
    "tags": []
   },
   "outputs": [],
   "source": [
    "df.describe()"
   ]
  },
  {
   "cell_type": "code",
   "execution_count": null,
   "id": "27ab06bb-f056-4138-8d86-47623f197472",
   "metadata": {
    "tags": []
   },
   "outputs": [],
   "source": [
    "df.isnull()"
   ]
  },
  {
   "cell_type": "code",
   "execution_count": null,
   "id": "e01a157c-407a-4338-8779-277be5de10d8",
   "metadata": {
    "tags": []
   },
   "outputs": [],
   "source": [
    "df.isnull().sum()"
   ]
  },
  {
   "cell_type": "code",
   "execution_count": null,
   "id": "86262311-3dee-4487-88f1-f3169bf7a00f",
   "metadata": {
    "tags": []
   },
   "outputs": [],
   "source": [
    "df.notnull()"
   ]
  },
  {
   "cell_type": "code",
   "execution_count": null,
   "id": "b1b80b7c-c4a7-48af-ab01-dfbdeeb03dae",
   "metadata": {
    "tags": []
   },
   "outputs": [],
   "source": [
    "df.notnull().sum()"
   ]
  },
  {
   "cell_type": "code",
   "execution_count": null,
   "id": "5a759fca-66ec-4912-9863-1595ef9276ff",
   "metadata": {
    "tags": []
   },
   "outputs": [],
   "source": [
    "df.info()"
   ]
  },
  {
   "cell_type": "code",
   "execution_count": null,
   "id": "63232d59-a895-42f8-bcd8-16ae371faf85",
   "metadata": {
    "tags": []
   },
   "outputs": [],
   "source": [
    "region=df['origin'].unique()"
   ]
  },
  {
   "cell_type": "code",
   "execution_count": null,
   "id": "5311a7fb-a0b0-49e8-94aa-50365f9b4cc2",
   "metadata": {
    "tags": []
   },
   "outputs": [],
   "source": [
    "print(region)"
   ]
  },
  {
   "cell_type": "code",
   "execution_count": null,
   "id": "dd94f38b-748c-4ff7-86e7-2cddf8202509",
   "metadata": {
    "tags": []
   },
   "outputs": [],
   "source": [
    "mapping={'usa':1,'japan':2,'europe':3}"
   ]
  },
  {
   "cell_type": "code",
   "execution_count": null,
   "id": "1a5fb481-1bdc-44dd-aa3f-74940db4dd6d",
   "metadata": {
    "tags": []
   },
   "outputs": [],
   "source": [
    "df['origin_encoded']=df['origin'].map(mapping)"
   ]
  },
  {
   "cell_type": "code",
   "execution_count": null,
   "id": "4cf37b53-f51f-489e-97e2-43ea3bf19e19",
   "metadata": {
    "tags": []
   },
   "outputs": [],
   "source": [
    "df.head()"
   ]
  },
  {
   "cell_type": "code",
   "execution_count": null,
   "id": "dc6a1ddb-2038-4d96-a4da-4caf25520c53",
   "metadata": {},
   "outputs": [],
   "source": []
  }
 ],
 "metadata": {
  "kernelspec": {
   "display_name": "Python 3 (ipykernel)",
   "language": "python",
   "name": "python3"
  },
  "language_info": {
   "codemirror_mode": {
    "name": "ipython",
    "version": 3
   },
   "file_extension": ".py",
   "mimetype": "text/x-python",
   "name": "python",
   "nbconvert_exporter": "python",
   "pygments_lexer": "ipython3",
   "version": "3.10.2"
  }
 },
 "nbformat": 4,
 "nbformat_minor": 5
}
