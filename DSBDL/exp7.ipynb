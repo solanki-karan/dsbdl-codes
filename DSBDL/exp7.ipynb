{
 "cells": [
  {
   "cell_type": "code",
   "execution_count": 2,
   "id": "51386cb0-411c-446e-94c9-ae7847f46ac5",
   "metadata": {
    "tags": []
   },
   "outputs": [
    {
     "name": "stderr",
     "output_type": "stream",
     "text": [
      "[nltk_data] Downloading package punkt to\n",
      "[nltk_data]     C:\\Users\\gaura\\AppData\\Roaming\\nltk_data...\n",
      "[nltk_data]   Unzipping tokenizers\\punkt.zip.\n",
      "[nltk_data] Downloading package averaged_perceptron_tagger to\n",
      "[nltk_data]     C:\\Users\\gaura\\AppData\\Roaming\\nltk_data...\n",
      "[nltk_data]   Unzipping taggers\\averaged_perceptron_tagger.zip.\n",
      "[nltk_data] Downloading package stopwords to\n",
      "[nltk_data]     C:\\Users\\gaura\\AppData\\Roaming\\nltk_data...\n",
      "[nltk_data]   Unzipping corpora\\stopwords.zip.\n",
      "[nltk_data] Downloading package wordnet to\n",
      "[nltk_data]     C:\\Users\\gaura\\AppData\\Roaming\\nltk_data...\n"
     ]
    }
   ],
   "source": [
    "import nltk\n",
    "nltk.download('punkt')\n",
    "nltk.download('averaged_perceptron_tagger')\n",
    "nltk.download('stopwords')\n",
    "nltk.download('wordnet')\n",
    "from nltk.corpus import stopwords\n",
    "from nltk.tokenize import word_tokenize\n",
    "from nltk.stem import PorterStemmer,WordNetLemmatizer\n",
    "from sklearn.feature_extraction.text import TfidfVectorizer"
   ]
  },
  {
   "cell_type": "code",
   "execution_count": 3,
   "id": "ae175c5a-7a88-4c55-bbf1-bea66e2cdd65",
   "metadata": {
    "tags": []
   },
   "outputs": [],
   "source": [
    "document=\"In 1983, India won their First Cricket World Cup under the captaincy of Kapil Dev, making a historic moment in Indian cricket history.\""
   ]
  },
  {
   "cell_type": "code",
   "execution_count": 4,
   "id": "a88a4fb1-48c5-480f-a5c6-36da56566b31",
   "metadata": {
    "tags": []
   },
   "outputs": [],
   "source": [
    "tokens=word_tokenize(document)"
   ]
  },
  {
   "cell_type": "code",
   "execution_count": 5,
   "id": "5ffad911-74be-4bd1-bb05-53a59d80e28b",
   "metadata": {
    "tags": []
   },
   "outputs": [
    {
     "name": "stdout",
     "output_type": "stream",
     "text": [
      "['In', '1983', ',', 'India', 'won', 'their', 'First', 'Cricket', 'World', 'Cup', 'under', 'the', 'captaincy', 'of', 'Kapil', 'Dev', ',', 'making', 'a', 'historic', 'moment', 'in', 'Indian', 'cricket', 'history', '.']\n"
     ]
    }
   ],
   "source": [
    "print(tokens)"
   ]
  },
  {
   "cell_type": "code",
   "execution_count": 6,
   "id": "66f17b2b-04f3-49eb-bffd-4fc829ab59b1",
   "metadata": {
    "tags": []
   },
   "outputs": [
    {
     "name": "stdout",
     "output_type": "stream",
     "text": [
      "[('In', 'IN'), ('1983', 'CD'), (',', ','), ('India', 'NNP'), ('won', 'VBD'), ('their', 'PRP$'), ('First', 'JJ'), ('Cricket', 'NNP'), ('World', 'NNP'), ('Cup', 'NNP'), ('under', 'IN'), ('the', 'DT'), ('captaincy', 'NN'), ('of', 'IN'), ('Kapil', 'NNP'), ('Dev', 'NNP'), (',', ','), ('making', 'VBG'), ('a', 'DT'), ('historic', 'JJ'), ('moment', 'NN'), ('in', 'IN'), ('Indian', 'JJ'), ('cricket', 'NN'), ('history', 'NN'), ('.', '.')]\n"
     ]
    }
   ],
   "source": [
    "pos_tags=nltk.pos_tag(tokens)\n",
    "print(pos_tags)"
   ]
  },
  {
   "cell_type": "code",
   "execution_count": 7,
   "id": "52d32cfa-16d1-40b6-98e5-1c9e9bd156cc",
   "metadata": {
    "tags": []
   },
   "outputs": [
    {
     "name": "stdout",
     "output_type": "stream",
     "text": [
      "['1983', ',', 'India', 'First', 'Cricket', 'World', 'Cup', 'captaincy', 'Kapil', 'Dev', ',', 'making', 'historic', 'moment', 'Indian', 'cricket', 'history', '.']\n"
     ]
    }
   ],
   "source": [
    "stop_words=set(stopwords.words('english'))\n",
    "filtered_tokens=[word for word in tokens if word.lower() not in stop_words]\n",
    "print(filtered_tokens)"
   ]
  },
  {
   "cell_type": "code",
   "execution_count": 9,
   "id": "63d7bfb6-b34a-42d9-9ea6-674c82893f15",
   "metadata": {
    "tags": []
   },
   "outputs": [],
   "source": [
    "Stemmer=PorterStemmer()\n",
    "stemmed_tokens=[Stemmer.stem(word) for word in filtered_tokens]"
   ]
  },
  {
   "cell_type": "code",
   "execution_count": 10,
   "id": "85bf2c7a-ebad-460a-b487-6539b5aaaeab",
   "metadata": {
    "tags": []
   },
   "outputs": [
    {
     "name": "stdout",
     "output_type": "stream",
     "text": [
      "['1983', ',', 'india', 'first', 'cricket', 'world', 'cup', 'captainci', 'kapil', 'dev', ',', 'make', 'histor', 'moment', 'indian', 'cricket', 'histori', '.']\n"
     ]
    }
   ],
   "source": [
    "print(stemmed_tokens)"
   ]
  },
  {
   "cell_type": "code",
   "execution_count": 11,
   "id": "895031c9-c243-4212-88dc-d243e723200b",
   "metadata": {
    "tags": []
   },
   "outputs": [
    {
     "name": "stdout",
     "output_type": "stream",
     "text": [
      "['1983', ',', 'India', 'First', 'Cricket', 'World', 'Cup', 'captaincy', 'Kapil', 'Dev', ',', 'making', 'historic', 'moment', 'Indian', 'cricket', 'history', '.']\n"
     ]
    }
   ],
   "source": [
    "lemmatizer=WordNetLemmatizer()\n",
    "lemmatized_tokens=[lemmatizer.lemmatize(word) for word in filtered_tokens]\n",
    "print(lemmatized_tokens)"
   ]
  },
  {
   "cell_type": "code",
   "execution_count": 13,
   "id": "4d41f3d4-f481-4cc9-8493-9346eab38637",
   "metadata": {
    "tags": []
   },
   "outputs": [],
   "source": [
    "tfidf_vectorizer=TfidfVectorizer()\n",
    "tfidf_matrix=tfidf_vectorizer.fit_transform([' '.join(lemmatized_tokens)])"
   ]
  },
  {
   "cell_type": "code",
   "execution_count": 14,
   "id": "d694ee27-1aa1-4e1c-8d26-df3b8df2e603",
   "metadata": {
    "tags": []
   },
   "outputs": [],
   "source": [
    "from collections import Counter\n",
    "import math"
   ]
  },
  {
   "cell_type": "code",
   "execution_count": 15,
   "id": "aa3440ec-553d-486a-9bd6-e10fc1de7d09",
   "metadata": {
    "tags": []
   },
   "outputs": [],
   "source": [
    "words=document.split()"
   ]
  },
  {
   "cell_type": "code",
   "execution_count": 16,
   "id": "736afd48-e61e-4718-876c-7d2a731c1a5e",
   "metadata": {
    "tags": []
   },
   "outputs": [],
   "source": [
    "word_count=Counter(words)\n",
    "total_words=len(words)\n",
    "tf={word:Count/total_words for word,Count in word_count.items()}"
   ]
  },
  {
   "cell_type": "code",
   "execution_count": 17,
   "id": "06e5b5dd-e903-4289-9f3d-22562f857f32",
   "metadata": {
    "tags": []
   },
   "outputs": [
    {
     "name": "stdout",
     "output_type": "stream",
     "text": [
      "Term Frequency for each word:\n",
      "In:0.043478260869565216\n",
      "1983,:0.043478260869565216\n",
      "India:0.043478260869565216\n",
      "won:0.043478260869565216\n",
      "their:0.043478260869565216\n",
      "First:0.043478260869565216\n",
      "Cricket:0.043478260869565216\n",
      "World:0.043478260869565216\n",
      "Cup:0.043478260869565216\n",
      "under:0.043478260869565216\n",
      "the:0.043478260869565216\n",
      "captaincy:0.043478260869565216\n",
      "of:0.043478260869565216\n",
      "Kapil:0.043478260869565216\n",
      "Dev,:0.043478260869565216\n",
      "making:0.043478260869565216\n",
      "a:0.043478260869565216\n",
      "historic:0.043478260869565216\n",
      "moment:0.043478260869565216\n",
      "in:0.043478260869565216\n",
      "Indian:0.043478260869565216\n",
      "cricket:0.043478260869565216\n",
      "history.:0.043478260869565216\n"
     ]
    }
   ],
   "source": [
    "print('Term Frequency for each word:')\n",
    "for word,tf_value in tf.items():\n",
    "    print(f\"{word}:{tf_value}\")"
   ]
  },
  {
   "cell_type": "code",
   "execution_count": 18,
   "id": "ffb5f1dc-d92b-44f6-8b67-c390834dfa7e",
   "metadata": {
    "tags": []
   },
   "outputs": [],
   "source": [
    "words=set(document.split())"
   ]
  },
  {
   "cell_type": "code",
   "execution_count": 19,
   "id": "9716cc57-08c2-4834-8693-291ca7ebb09f",
   "metadata": {
    "tags": []
   },
   "outputs": [],
   "source": [
    "doc_containing_word=Counter()\n",
    "for word in words:\n",
    "    doc_containing_word[word]+=1"
   ]
  },
  {
   "cell_type": "code",
   "execution_count": 21,
   "id": "fcf66f69-adc7-4baf-b1ce-47ef4620d493",
   "metadata": {
    "tags": []
   },
   "outputs": [],
   "source": [
    "total_documents=1\n",
    "idf={word:math.log(total_documents/count) for word ,count in doc_containing_word.items()}"
   ]
  },
  {
   "cell_type": "code",
   "execution_count": 23,
   "id": "b26d4025-998a-4bda-a1c9-737f50d4d444",
   "metadata": {
    "tags": []
   },
   "outputs": [
    {
     "name": "stdout",
     "output_type": "stream",
     "text": [
      "Inverse document Frequency for each word\n",
      "Dev,:0.0\n",
      "Cup:0.0\n",
      "making:0.0\n",
      "a:0.0\n",
      "Cricket:0.0\n",
      "captaincy:0.0\n",
      "moment:0.0\n",
      "In:0.0\n",
      "of:0.0\n",
      "the:0.0\n",
      "Indian:0.0\n",
      "history.:0.0\n",
      "under:0.0\n",
      "First:0.0\n",
      "won:0.0\n",
      "Kapil:0.0\n",
      "India:0.0\n",
      "in:0.0\n",
      "World:0.0\n",
      "cricket:0.0\n",
      "historic:0.0\n",
      "their:0.0\n",
      "1983,:0.0\n"
     ]
    }
   ],
   "source": [
    "print(\"Inverse document Frequency for each word\")\n",
    "for word,idf_value in idf.items():\n",
    "    print(f\"{word}:{idf_value}\")"
   ]
  },
  {
   "cell_type": "code",
   "execution_count": 24,
   "id": "43964fd9-3c26-4490-bd1b-40d9821894ed",
   "metadata": {
    "tags": []
   },
   "outputs": [
    {
     "name": "stdout",
     "output_type": "stream",
     "text": [
      "TF-IDF Matrix\n",
      "[[0.24253563 0.24253563 0.48507125 0.24253563 0.24253563 0.24253563\n",
      "  0.24253563 0.24253563 0.24253563 0.24253563 0.24253563 0.24253563\n",
      "  0.24253563 0.24253563]]\n",
      "Feature names: ['1983' 'captaincy' 'cricket' 'cup' 'dev' 'first' 'historic' 'history'\n",
      " 'india' 'indian' 'kapil' 'making' 'moment' 'world']\n"
     ]
    }
   ],
   "source": [
    "print(\"TF-IDF Matrix\")\n",
    "print(tfidf_matrix.toarray())\n",
    "print(\"Feature names:\",tfidf_vectorizer.get_feature_names_out())"
   ]
  },
  {
   "cell_type": "code",
   "execution_count": null,
   "id": "8d148269-211e-4581-85a1-6fb42eab4e79",
   "metadata": {},
   "outputs": [],
   "source": []
  }
 ],
 "metadata": {
  "kernelspec": {
   "display_name": "Python 3 (ipykernel)",
   "language": "python",
   "name": "python3"
  },
  "language_info": {
   "codemirror_mode": {
    "name": "ipython",
    "version": 3
   },
   "file_extension": ".py",
   "mimetype": "text/x-python",
   "name": "python",
   "nbconvert_exporter": "python",
   "pygments_lexer": "ipython3",
   "version": "3.11.5"
  }
 },
 "nbformat": 4,
 "nbformat_minor": 5
}
